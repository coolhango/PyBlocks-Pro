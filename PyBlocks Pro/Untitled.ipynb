{
 "cells": [
  {
   "cell_type": "code",
   "execution_count": null,
   "id": "6c2ed0b1-9997-441c-9a41-5ee1c3c983a0",
   "metadata": {},
   "outputs": [
    {
     "name": "stdout",
     "output_type": "stream",
     "text": [
      "pygame 2.5.2 (SDL 2.28.3, Python 3.12.3)\n",
      "Hello from the pygame community. https://www.pygame.org/contribute.html\n"
     ]
    }
   ],
   "source": [
    "import pygame\n",
    "from viewport import Viewport\n",
    "from scene import Scene\n",
    "from utils import loadImage\n",
    "from floor import Floor\n",
    "from sprites import ImageSprite\n",
    "from scroller import Scroller\n",
    "from gui import Gui\n",
    "from placer import Placer\n",
    "from world import World\n",
    "from input import Input\n",
    "from interface import Interface\n",
    "\n",
    "class Main():\n",
    "\n",
    "    def __init__(self):\n",
    "        pygame.init()\n",
    "\n",
    "        screen = pygame.display.set_mode((1280, 860), pygame.RESIZABLE | pygame.DOUBLEBUF | pygame.HWSURFACE)\n",
    "        pygame.display.set_caption(\"PyBlocks\")\n",
    "\n",
    "        icon = loadImage(\"img/icon.png\")\n",
    "        pygame.display.set_icon(icon)\n",
    "\n",
    "        input = Input()\n",
    "\n",
    "        gui = Gui(input, screen)\n",
    "        gui.enable()\n",
    "\n",
    "        scene = Scene()\n",
    "        viewport = Viewport(screen, scene)\n",
    "\n",
    "        world = World(scene, 40, 40)\n",
    "        world.show()\n",
    "\n",
    "        scroller = Scroller(input, viewport)\n",
    "        scroller.enable()\n",
    "\n",
    "        placer = Placer(input, world, viewport)\n",
    "        placer.enable()\n",
    "\n",
    "        interface = Interface(world, gui, screen, viewport, placer)\n",
    "        interface.build()\n",
    "\n",
    "        done = False\n",
    "        clock = pygame.time.Clock()\n",
    "        while not done:\n",
    "            for event in pygame.event.get():\n",
    "                if event.type == pygame.QUIT:\n",
    "                    done = True\n",
    "                else:\n",
    "                    input.handleEvent(event)\n",
    "                    if event.type == pygame.KEYDOWN:\n",
    "                        if event.key == 97:\n",
    "                            viewport.rotateCW()\n",
    "                        elif event.key == 100:\n",
    "                            viewport.rotateCCW()\n",
    "\n",
    "            sky_color = world.sky_color\n",
    "            screen.fill(sky_color)\n",
    "            scene.update(clock)\n",
    "            viewport.draw()\n",
    "            gui.draw()\n",
    "            pygame.display.flip()\n",
    "\n",
    "            clock.tick(60)\n",
    "\n",
    "\n",
    "if __name__ == \"__main__\":\n",
    "    main = Main()\n"
   ]
  }
 ],
 "metadata": {
  "kernelspec": {
   "display_name": "Python 3 (ipykernel)",
   "language": "python",
   "name": "python3"
  },
  "language_info": {
   "codemirror_mode": {
    "name": "ipython",
    "version": 3
   },
   "file_extension": ".py",
   "mimetype": "text/x-python",
   "name": "python",
   "nbconvert_exporter": "python",
   "pygments_lexer": "ipython3",
   "version": "3.12.3"
  }
 },
 "nbformat": 4,
 "nbformat_minor": 5
}
